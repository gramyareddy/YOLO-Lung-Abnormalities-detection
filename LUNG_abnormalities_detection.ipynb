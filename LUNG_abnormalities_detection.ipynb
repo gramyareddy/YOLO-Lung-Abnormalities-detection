{
  "nbformat": 4,
  "nbformat_minor": 0,
  "metadata": {
    "colab": {
      "name": "Untitled43.ipynb",
      "provenance": []
    },
    "kernelspec": {
      "name": "python3",
      "display_name": "Python 3"
    },
    "language_info": {
      "name": "python"
    }
  },
  "cells": [
    {
      "cell_type": "code",
      "execution_count": 1,
      "metadata": {
        "colab": {
          "base_uri": "https://localhost:8080/"
        },
        "id": "nGZlNipLkXcH",
        "outputId": "1927ac97-f64c-47c5-f4d8-1e8b68824187"
      },
      "outputs": [
        {
          "output_type": "stream",
          "name": "stderr",
          "text": [
            "YOLOv5 🚀 v6.0-249-gb40bdd6 torch 1.10.0+cu111 CPU\n"
          ]
        },
        {
          "output_type": "stream",
          "name": "stdout",
          "text": [
            "Setup complete ✅ (2 CPUs, 12.7 GB RAM, 41.9/107.7 GB disk)\n"
          ]
        }
      ],
      "source": [
        "!git clone https://github.com/ultralytics/yolov5  # clone\n",
        "%cd yolov5\n",
        "%pip install -qr requirements.txt  # install\n",
        "\n",
        "import torch\n",
        "from yolov5 import utils\n",
        "display = utils.notebook_init()  # checks0"
      ]
    },
    {
      "cell_type": "code",
      "source": [
        "from google.colab import drive\n",
        "drive.mount('/content/drive')"
      ],
      "metadata": {
        "colab": {
          "base_uri": "https://localhost:8080/"
        },
        "id": "ukSBtD2ykdUv",
        "outputId": "f61e112a-61e8-4cd5-a7de-36c088ff7e6d"
      },
      "execution_count": 2,
      "outputs": [
        {
          "output_type": "stream",
          "name": "stdout",
          "text": [
            "Mounted at /content/drive\n"
          ]
        }
      ]
    },
    {
      "cell_type": "code",
      "source": [
        "!ls"
      ],
      "metadata": {
        "colab": {
          "base_uri": "https://localhost:8080/"
        },
        "id": "67orHKb0kdX-",
        "outputId": "fd30b34b-822f-493f-cbd1-9f32bdc47ecd"
      },
      "execution_count": 4,
      "outputs": [
        {
          "output_type": "stream",
          "name": "stdout",
          "text": [
            "best.pt\t\t Dockerfile  image2.jpg  requirements.txt  utils\n",
            "CONTRIBUTING.md  export.py   LICENSE\t setup.cfg\t   val.py\n",
            "data\t\t hubconf.py  models\t train.py\n",
            "detect.py\t image1.jpg  README.md\t tutorial.ipynb\n"
          ]
        }
      ]
    },
    {
      "cell_type": "code",
      "source": [
        "!cp '/content/drive/My Drive/best.pt' ."
      ],
      "metadata": {
        "id": "GmesImdtkdcB"
      },
      "execution_count": 5,
      "outputs": []
    },
    {
      "cell_type": "code",
      "source": [
        "!python detect.py --weights 'best.pt' --source images/\n"
      ],
      "metadata": {
        "colab": {
          "base_uri": "https://localhost:8080/"
        },
        "id": "7w3GRFF7kdfa",
        "outputId": "35bf4c79-29b9-4c13-d82b-31a3f49164e9"
      },
      "execution_count": 12,
      "outputs": [
        {
          "output_type": "stream",
          "name": "stdout",
          "text": [
            "\u001b[34m\u001b[1mdetect: \u001b[0mweights=['best.pt'], source=images/, data=data/coco128.yaml, imgsz=[640, 640], conf_thres=0.25, iou_thres=0.45, max_det=1000, device=, view_img=False, save_txt=False, save_conf=False, save_crop=False, nosave=False, classes=None, agnostic_nms=False, augment=False, visualize=False, update=False, project=runs/detect, name=exp, exist_ok=False, line_thickness=3, hide_labels=False, hide_conf=False, half=False, dnn=False\n",
            "YOLOv5 🚀 v6.0-249-gb40bdd6 torch 1.10.0+cu111 CPU\n",
            "\n",
            "Fusing layers... \n",
            "Model Summary: 484 layers, 88478091 parameters, 0 gradients\n",
            "image 1/5 /content/yolov5/images/COPD_image1.jpg: 640x640 1 Pleural thickening, Done. (4.175s)\n",
            "image 2/5 /content/yolov5/images/COPD_image2.jpg: 640x640 4 Nodule/Masss, Done. (4.015s)\n",
            "image 3/5 /content/yolov5/images/COPD_image3.jpg: 640x640 1 Nodule/Mass, Done. (3.979s)\n",
            "image 4/5 /content/yolov5/images/NONCOPD_image3.jpg: 640x640 1 Pneumothorax, Done. (3.989s)\n",
            "image 5/5 /content/yolov5/images/NONCOPD_image4.jpg: 640x640 Done. (3.981s)\n",
            "Speed: 2.1ms pre-process, 4027.8ms inference, 1.9ms NMS per image at shape (1, 3, 640, 640)\n",
            "Results saved to \u001b[1mruns/detect/exp7\u001b[0m\n"
          ]
        }
      ]
    },
    {
      "cell_type": "code",
      "source": [
        ""
      ],
      "metadata": {
        "id": "oX2BpDSqmMMv"
      },
      "execution_count": null,
      "outputs": []
    }
  ]
}